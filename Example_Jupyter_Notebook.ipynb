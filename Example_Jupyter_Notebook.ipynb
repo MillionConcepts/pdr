{
 "cells": [
  {
   "cell_type": "markdown",
   "id": "c992d48d-e854-4644-a2e6-b395a4987095",
   "metadata": {},
   "source": [
    "## Welcome to the Planetary Data Reader Example Jupyter Notebook!\n",
    "\n",
    "The Planetary Data Reader (`pdr`) is a Python package that provides a single, straightforward interface to accessing observationa plantetary science data. It is currently under active development and will eventually support approximately all data hosted by the Planetary Data System (PDS). The basic command is just `pdr.read(fn)` where `fn` is either the observational data file or the detached label file (if applicable).\n",
    "\n",
    "This notebook demonstrates the basic operation of `pdr` as well some key features.\n",
    "\n",
    "_**Note:** This notebook must download data from the PDS and therefore requires an internet connection. `pdr` does not require an internet connection to be used locally when the data are already present._"
   ]
  },
  {
   "cell_type": "code",
   "execution_count": null,
   "id": "5fc26887-e1f4-4084-9bf4-a37e8e09b947",
   "metadata": {},
   "outputs": [],
   "source": [
    "import pdr # Import the `pdr` library\n",
    "import requests # We need this package to retrieve the remote data. It is not generally required.\n",
    "import os #"
   ]
  },
  {
   "cell_type": "markdown",
   "id": "7577ffa7-46d6-455e-966c-a68e567b6954",
   "metadata": {},
   "source": [
    "First, we'll look at an image from LROC (which uses the older PDS3 standards and has an attached label)."
   ]
  },
  {
   "cell_type": "code",
   "execution_count": null,
   "id": "74cd7f99-d1ae-4a06-887f-d1fa767f4d88",
   "metadata": {},
   "outputs": [],
   "source": [
    "# This is the URL to the data file on the PDS servers\n",
    "img_url = 'https://pds.lroc.asu.edu/data/LRO-L-LROC-5-RDR-V1.0/LROLRC_2001/DATA/BDR/NAC_ROI/NECTARISLOA/NAC_ROI_NECTARISLOA_E176S0413_20M.IMG'\n",
    "filename = img_url.split('/')[-1]\n",
    "# This retrieves the data and saves it to the current working directory\n",
    "# It will print the total data volume (8227536) when it completes\n",
    "if not os.path.exists(filename):\n",
    "    req = requests.get(img_url)\n",
    "    open(filename, 'wb').write(req.content)"
   ]
  },
  {
   "cell_type": "markdown",
   "id": "4f8f6b2a-1f0e-47da-bc93-af7c952eaa7b",
   "metadata": {},
   "source": [
    "### Reading image data:\n",
    "Now that we have our file downloaded (run the above cell), we can easily read the data in with `pdr.read()`. This returns an object with attributes that correspond to each of the data objects defined in the label. The attributes can be queried and accessed with a `keys()` method, similar to a Python `dict`.\n",
    "\n",
    "Let's read the file and see what kinds of data it contains."
   ]
  },
  {
   "cell_type": "code",
   "execution_count": null,
   "id": "c9d938ab-9cc3-4b66-be32-b881d1ee4f18",
   "metadata": {},
   "outputs": [],
   "source": [
    "lroc_data = pdr.read(filename) # That's the magic function call!\n",
    "print(f'The keys are {lroc_data.keys()}')"
   ]
  },
  {
   "cell_type": "markdown",
   "id": "69b65e10",
   "metadata": {},
   "source": [
    "If you are not familiar with the PDS data formats, you might now be surprised to learn that this \"image\" file contains three different data objects. Most PDS data have a `LABEL` object, which contains the metadata associated with this observation (like observation time, calibration constants, provenance information, etc.); it is returned as Parameter Value Language (`PVL`) data object. The `IMAGE` object contains an array of observational data values, and is a `numpy.ndarray`. And the `DATA_SET_MAP_PROJECTION`, which is particular to this data set, contains map projection data.\n",
    "\n",
    "Let's print the contents of each of these objects, just to see what they contain."
   ]
  },
  {
   "cell_type": "code",
   "execution_count": null,
   "id": "64b3d234",
   "metadata": {},
   "outputs": [],
   "source": [
    "for key in lroc_data.keys():\n",
    "    print(f'{key}:')\n",
    "    print(lroc_data[key])"
   ]
  },
  {
   "cell_type": "markdown",
   "id": "871bae1d-18d5-4228-831b-9aa0b5da43c6",
   "metadata": {},
   "source": [
    "**Oopsie!** An `AttributeError` was thrown while attempting to access `DATA_SET_MAP_PROJECTION`. This is intentional. Many files in the PDS have small format (.FMT), catalog (.CAT), or other supplementary files referenced in their labels. These files are usually stored in a separate location on the PDS than the data and label files are. Many times these supplementary files are not necessary to read the data. But if they are, `pdr` currently does not load them and throws an error when you attempt to access that data object. Note that the `LABEL` and `IMAGE` objects were accessed without issue."
   ]
  },
  {
   "cell_type": "markdown",
   "id": "575f6dff",
   "metadata": {},
   "source": [
    "#### `.show()` convience method (for visiualizing image data):\n",
    "`pdr` has a convenience method called `.show()` which helps to quickly visualize the image data. Null values---typically defined in the label or drawn from a list of universal null values---are masked in cyan, but that doesn't change their value in the data object. This method is soley for visualizing the data for browsing or triage purposes."
   ]
  },
  {
   "cell_type": "code",
   "execution_count": null,
   "id": "10dd86bc-7927-46b3-aa68-3ae0de94f6b8",
   "metadata": {},
   "outputs": [],
   "source": [
    "lroc_data.show()"
   ]
  },
  {
   "cell_type": "markdown",
   "id": "1432dcee-f855-4a24-91f3-2a4a4fd77e9c",
   "metadata": {
    "tags": []
   },
   "source": [
    "### Reading table data:\n",
    "Now let's look at a table-like data.  The same `pdr.read()` command works, and `pdr` figures out the format of the data and correctly interprets it. Table-like data are represented as a `pandas.DataFrame`.\n",
    "\n",
    "First we'll read a table from the Apollo 15 Heat Flow Experiment that is in the PDS4 standard format. Then we'll read some MRO SHARAD data that is in the PDS3 standard format. **We also demonstrate that data can be opened with either a detached label file or a data file. Though label files are preferred.**\n",
    "\n",
    "_**Note:** Currently, pdr does not use the same internal functions to open PDS4 and PDS3 data. PDS4 data is less optimized---it reads data accurately, but more slowly---and we recommend using PDS3 labels whenever both are available due to this._"
   ]
  },
  {
   "cell_type": "code",
   "execution_count": null,
   "id": "fd0c21c9-16cb-45dd-a826-d3926d6ec1b8",
   "metadata": {
    "tags": []
   },
   "outputs": [],
   "source": [
    "# These are the URLs for the Apollo 15 HFE data and label files\n",
    "apollo_url = 'https://pds-geosciences.wustl.edu/lunar/urn-nasa-pds-a15_17_hfe_concatenated/data/split/a15p1f4_split.tab'\n",
    "apollo_lbl = 'https://pds-geosciences.wustl.edu/lunar/urn-nasa-pds-a15_17_hfe_concatenated/data/split/a15p1f4_split.xml'\n",
    "# This downloads the data, same way as above\n",
    "apollo_fn = apollo_url.split('/')[-1]\n",
    "if not os.path.exists(apollo_fn):\n",
    "    req = requests.get(apollo_url)\n",
    "    open(apollo_fn, 'wb').write(req.content)\n",
    "apollo_lbl = apollo_lbl.split('/')[-1]\n",
    "if not os.path.exists(apollo_lbl):\n",
    "    reqlbl = requests.get(apollo_lbl)\n",
    "    open(apollo_lbl, 'wb').write(reqlbl.content)\n",
    "apollo_from_data_file = pdr.read(apollo_fn)\n",
    "apollo_from_lbl_file = pdr.read(apollo_lbl)\n",
    "# This checks that the outputs of `pdr` are identical whether you pass it the data file or the label file.\n",
    "print('Do the data file and label file produce identical outputs?',\n",
    "      all(apollo_from_data_file['a15p1f4_split']==apollo_from_lbl_file['a15p1f4_split']))"
   ]
  },
  {
   "cell_type": "markdown",
   "id": "4c835f34-c390-461e-9d38-a9981a5f7947",
   "metadata": {
    "tags": []
   },
   "source": [
    "Tables are output as pandas dataframes when read from a PDS3 label and as PDS_ndarray (this is a reclassed numpy array) when read from a PDS4 label (as shown here). PDS4 labels are output as dictionaries. "
   ]
  },
  {
   "cell_type": "code",
   "execution_count": null,
   "id": "4887e95e-7eac-4f1b-b1ab-d1c44b0f450b",
   "metadata": {
    "tags": []
   },
   "outputs": [],
   "source": [
    "print(f'The keys are {apollo_from_data_file.keys()}')\n",
    "for key in apollo_from_data_file.keys():\n",
    "    print(f'{key}:')\n",
    "    print(type(apollo_from_data_file[key]))\n",
    "    print(apollo_from_data_file[key])"
   ]
  },
  {
   "cell_type": "markdown",
   "id": "72ea2949-30d2-4e96-810d-d58778f97e1d",
   "metadata": {},
   "source": [
    "\n",
    "An example with a MRO-RSS file, a PDS3 formatted table, can be seen below. Note again the differing output types from using a a PDS3 (pandas dataframe) vs. PDS4 (PDS_ndarray) label file for a table.\n",
    "\n",
    "Here we also demonstrate the use of the `lazy=` keyword. This causes only the label to be read in and allows the each product referenced in a label file to be loaded in separately."
   ]
  },
  {
   "cell_type": "code",
   "execution_count": null,
   "id": "bd418a8d-bd4a-41aa-ba54-d5e32a18fa52",
   "metadata": {
    "tags": []
   },
   "outputs": [],
   "source": [
    "mrorss_url = 'https://pds-geosciences.wustl.edu/mro/mro-m-rss-5-sdp-v1/mrors_1xxx/data/shadr/jgmro_110b2_sha.tab'\n",
    "mrorss_lbl_url = 'https://pds-geosciences.wustl.edu/mro/mro-m-rss-5-sdp-v1/mrors_1xxx/data/shadr/jgmro_110b2_sha.lbl'\n",
    "mrorss_fn = mrorss_url.split('/')[-1]\n",
    "if not os.path.exists(mrorss_fn):\n",
    "    req = requests.get(mrorss_url)\n",
    "    open(mrorss_fn, 'wb').write(req.content)\n",
    "mrorss_lbl = mrorss_url.split('/')[-1]\n",
    "if not os.path.exists(mrorss_lbl):\n",
    "    req_lbl = requests.get(mrorss_lbl_url)\n",
    "    open(mrorss_lbl, 'wb').write(req_lbl.content)\n",
    "\n",
    "mrorss_data=pdr.read(mrorss_lbl, lazy=True)\n",
    "\n",
    "print(f'The keys are {mrorss_data.keys()}')\n",
    "for key in mrorss_data.keys():\n",
    "    print(f'{key}:')\n",
    "    print(type(mrorss_data[key]))\n",
    "    print(mrorss_data[key])"
   ]
  },
  {
   "cell_type": "markdown",
   "id": "ce845519-033b-4d2b-b544-756053053c00",
   "metadata": {},
   "source": [
    "#### `.dump_browse()` convience method (for outputting browse products of any data type)\n",
    "\n",
    "Similar to the `.show()` method, the `dump_browse()` method can output a masked browse image. However, there are some key differences.\n",
    "\n",
    "(1) `.dump_browse()` will create a browse file on your computer drive, not a visual output on your display.\n",
    "\n",
    "(2) While `.show()` only works on array data (meant for images), the `.dump_browse()` feature will output a file for each key.\n",
    "\n",
    "Let's give it a go:"
   ]
  },
  {
   "cell_type": "code",
   "execution_count": null,
   "id": "6a192148-812e-443e-8e6a-6b25a9a69f59",
   "metadata": {},
   "outputs": [],
   "source": [
    "mrorss_data.dump_browse()"
   ]
  },
  {
   "cell_type": "markdown",
   "id": "54da9faa-58bd-4933-ae8a-99e39daad87b",
   "metadata": {},
   "source": [
    "There should now be two new files in the folder you have this jupyter notebook in. \n",
    "\n",
    "    -jgmro_110b2_sha_LABEL.lbl\n",
    "    -jgmro_110b2_sha_SHADR_COEFFICIENTS_TABLE.csv\n",
    "    \n",
    "Each file is named by the name of the original file with the addition of \\_key where key is the name of the corresponding dictionary key.\n",
    "\n",
    "Notice that only the keys that were loaded in have corresponding files when running `dump_browse()`.\n",
    "\n",
    "The label is output as a PVL parsed .lbl file. When PDS labels don't conform to the strict standards of PVL (which they often don't) the \\_LABEL.lbl will be accompanied by a \\_LABEL.badpvl.txt which is the backup output. It is simply a text file of the LABEL key. In this case the \\_LABEL.lbl will be an empty text file.\n",
    "\n",
    "We can use this same convenience method with the image data from above (requires running of first 2 cells after import in case you jumped here). This will output the image we displayed above as a .jpg and also output a parsed .lbl which will both be saved in the folder the jupyter notebook is executing from."
   ]
  },
  {
   "cell_type": "code",
   "execution_count": null,
   "id": "b3adb91d-bf02-4e77-942c-dc6f0a1bd3cd",
   "metadata": {},
   "outputs": [],
   "source": [
    "lroc_data.dump_browse()"
   ]
  },
  {
   "cell_type": "code",
   "execution_count": null,
   "id": "fd9fc1e0",
   "metadata": {},
   "outputs": [],
   "source": []
  }
 ],
 "metadata": {
  "kernelspec": {
   "display_name": "Python 3 (ipykernel)",
   "language": "python",
   "name": "python3"
  },
  "language_info": {
   "codemirror_mode": {
    "name": "ipython",
    "version": 3
   },
   "file_extension": ".py",
   "mimetype": "text/x-python",
   "name": "python",
   "nbconvert_exporter": "python",
   "pygments_lexer": "ipython3",
   "version": "3.9.10"
  }
 },
 "nbformat": 4,
 "nbformat_minor": 5
}

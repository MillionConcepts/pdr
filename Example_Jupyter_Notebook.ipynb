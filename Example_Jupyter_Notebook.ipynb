{
 "cells": [
  {
   "cell_type": "markdown",
   "id": "c992d48d-e854-4644-a2e6-b395a4987095",
   "metadata": {},
   "source": [
    "## Welcome to the Planetary Data Reader Example Jupyter Notebook!\n",
    "\n",
    "The Planetary Data Reader (`pdr`) is a Python package that provides a single, straightforward interface to planetary science observational data. It is currently under active development and will eventually support almost all data hosted by the Planetary Data System (PDS). The basic command is just `pdr.read(fn)`, where `fn` is either an observational data file or its detached label file (if applicable).\n",
    "\n",
    "This notebook demonstrates basic usage and key features of `pdr`.\n",
    "\n",
    "_**Note:** This notebook must download data from the PDS and therefore requires an internet connection. `pdr` does not require an internet connection to be used locally when the data are already present._"
   ]
  },
  {
   "cell_type": "code",
   "execution_count": null,
   "id": "5fc26887-e1f4-4084-9bf4-a37e8e09b947",
   "metadata": {},
   "outputs": [],
   "source": [
    "# imports\n",
    "# glob, os, and requests are used to check paths and retrieve remote \n",
    "# data in this notebook. you do not need to import them for most uses of pdr.\n",
    "import glob\n",
    "import os \n",
    "import requests \n",
    "\n",
    "# importing the pdr module itself is mandatory for most uses of pdr.\n",
    "import pdr  "
   ]
  },
  {
   "cell_type": "markdown",
   "id": "7577ffa7-46d6-455e-966c-a68e567b6954",
   "metadata": {},
   "source": [
    "First, we'll look at an image from LROC (which uses the older PDS3 standards and has an attached label)."
   ]
  },
  {
   "cell_type": "code",
   "execution_count": null,
   "id": "74cd7f99-d1ae-4a06-887f-d1fa767f4d88",
   "metadata": {},
   "outputs": [],
   "source": [
    "# This is the URL for the data file on the PDS server\n",
    "img_url = 'https://pds.lroc.asu.edu/data/LRO-L-LROC-5-RDR-V1.0/LROLRC_2001/DATA/BDR/NAC_ROI/NECTARISLOA/NAC_ROI_NECTARISLOA_E176S0413_20M.IMG'\n",
    "filename = img_url.split('/')[-1]\n",
    "# This retrieves the file and saves it to the current working directory.\n",
    "# It will print the total data volume in bytes (8227536) when it completes.\n",
    "if not os.path.exists(filename):\n",
    "    req = requests.get(img_url)\n",
    "    open(filename, 'wb').write(req.content)\n",
    "    print(len(req.content))"
   ]
  },
  {
   "cell_type": "markdown",
   "id": "4f8f6b2a-1f0e-47da-bc93-af7c952eaa7b",
   "metadata": {},
   "source": [
    "### Reading image data:\n",
    "Now that we've downloaded our file by running the previous cell, we can easily read the data in with `pdr.read()`. This returns an object with attributes that correspond to each of the data objects defined in the label. Much like a Python `dict`, the attributes of this object can be queried with `__getitem__` notation ([\"thing\"]) and accessed with a `keys()` method, \n",
    "\n",
    "Let's read the file and see what kinds of data it contains."
   ]
  },
  {
   "cell_type": "code",
   "execution_count": null,
   "id": "c9d938ab-9cc3-4b66-be32-b881d1ee4f18",
   "metadata": {},
   "outputs": [],
   "source": [
    "lroc_data = pdr.read(filename)  # That's the magic function call!\n",
    "print(f'The keys are {lroc_data.keys()}')"
   ]
  },
  {
   "cell_type": "markdown",
   "id": "69b65e10",
   "metadata": {},
   "source": [
    "If you are not familiar with PDS data formats, you might be surprised to learn that this \"image\" file contains three different data objects. Most PDS products have a `LABEL` object, which contains metadata associated with an observation (like observation time, calibration constants, provenance information, etc.). `pdr` interprets `LABEL`s as Parameter Value Language (`PVL`) objects. The `IMAGE` object is an array of observational data values; `pdr` interprets it as a `numpy.ndarray`. `DATA_SET_MAP_PROJECTION`, which is included in some map-projected PDS3 data products, contains information about the map projection.\n",
    "\n",
    "Let's print the contents of each of these objects, just to see what they contain."
   ]
  },
  {
   "cell_type": "code",
   "execution_count": null,
   "id": "64b3d234",
   "metadata": {
    "scrolled": false
   },
   "outputs": [],
   "source": [
    "for key in lroc_data.keys():\n",
    "    print(f'{key}:')\n",
    "    print(lroc_data[key])"
   ]
  },
  {
   "cell_type": "markdown",
   "id": "871bae1d-18d5-4228-831b-9aa0b5da43c6",
   "metadata": {},
   "source": [
    "**Oopsie!** `pdr` threw an `AttributeError` when we attempted to access `DATA_SET_MAP_PROJECTION`. This is intentional. Many files in the PDS have small format (.FMT), catalog (.CAT), or other supplementary files referenced in their labels. These files are usually not stored in the same directory on the PDS's servers as the data and label files. Most of the time, these supplementary files will not be necessary to read the objects you care about: note that we accessed the `LABEL` and `IMAGE` objects with no issues. However, if they are necessary and are not in your filesystem, `pdr` cannot load them and will throw an error when you attempt to access associated data objects."
   ]
  },
  {
   "cell_type": "markdown",
   "id": "575f6dff",
   "metadata": {},
   "source": [
    "#### `.show()` convenience method (for visualizing image data):\n",
    "`pdr` has a convenience method called `.show()` which helps to quickly visualize image data. Null values---typically defined in the label or drawn from a list of universal null values---are masked in cyan, but that doesn't change their value in the data object. This method is solely for visualizing data for browsing or triage purposes. (If you want an array containing the specific values used to render these images, use `data.get_scaled(\"NAME_OF_OBJECT\")`.)"
   ]
  },
  {
   "cell_type": "code",
   "execution_count": null,
   "id": "10dd86bc-7927-46b3-aa68-3ae0de94f6b8",
   "metadata": {},
   "outputs": [],
   "source": [
    "lroc_data.show()"
   ]
  },
  {
   "cell_type": "markdown",
   "id": "1432dcee-f855-4a24-91f3-2a4a4fd77e9c",
   "metadata": {
    "tags": []
   },
   "source": [
    "### Reading table data:\n",
    "Now let's look at a table-like data file.  The same `pdr.read()` command works, and `pdr` figures out the format of the data and correctly interprets it. Table-like data objects are represented as `pandas.DataFrame`s.\n",
    "\n",
    "First we'll read a table from the Apollo 15 Heat Flow Experiment that is in the PDS4 standard format. Then we'll read some MRO SHARAD data that is in the PDS3 standard format. We also demonstrate that data can be opened with either a detached label file or a data file, although **label files are preferred.**\n",
    "\n",
    "_**Note:** Currently, pdr does not use the same internal functions to open PDS4 and PDS3 data. PDS4 data is less optimized---it reads data accurately, but more slowly---and **we recommend using PDS3 labels whenever both are available** due to this._"
   ]
  },
  {
   "cell_type": "code",
   "execution_count": null,
   "id": "44a38d6a",
   "metadata": {},
   "outputs": [],
   "source": [
    "apollo_lbl"
   ]
  },
  {
   "cell_type": "code",
   "execution_count": null,
   "id": "b3b161f6",
   "metadata": {},
   "outputs": [],
   "source": [
    "apollo_fn"
   ]
  },
  {
   "cell_type": "code",
   "execution_count": null,
   "id": "20b366cb",
   "metadata": {},
   "outputs": [],
   "source": [
    "apollo_lbl"
   ]
  },
  {
   "cell_type": "code",
   "execution_count": null,
   "id": "fd0c21c9-16cb-45dd-a826-d3926d6ec1b8",
   "metadata": {
    "tags": []
   },
   "outputs": [],
   "source": [
    "# These are URLs for Apollo 15 HFE data and label files\n",
    "apollo_url = 'https://pds-geosciences.wustl.edu/lunar/'\\\n",
    "             'urn-nasa-pds-a15_17_hfe_concatenated/data/split/a15p1f4_split.tab'\n",
    "apollo_lbl = 'https://pds-geosciences.wustl.edu/lunar/'\\\n",
    "             'urn-nasa-pds-a15_17_hfe_concatenated/data/split/a15p1f4_split.xml'\n",
    "# This downloads the data, same way as above\n",
    "apollo_fn = apollo_url.split('/')[-1]\n",
    "if not os.path.exists(apollo_fn):\n",
    "    req = requests.get(apollo_url)\n",
    "    open(apollo_fn, 'wb').write(req.content)\n",
    "apollo_lbl_fn = apollo_lbl.split('/')[-1]\n",
    "if not os.path.exists(apollo_lbl):\n",
    "    reqlbl = requests.get(apollo_lbl)\n",
    "    open(apollo_lbl_fn, 'wb').write(reqlbl.content)\n",
    "apollo_from_data_file = pdr.read(apollo_fn)\n",
    "apollo_from_lbl_file = pdr.read(apollo_lbl_fn)\n",
    "# This checks that the outputs of `pdr` are identical \n",
    "# whether you pass it the data file or the label file.\n",
    "print('Do the data file and label file produce identical outputs?',\n",
    "      all(apollo_from_data_file['a15p1f4_split']==apollo_from_lbl_file['a15p1f4_split']))"
   ]
  },
  {
   "cell_type": "markdown",
   "id": "4c835f34-c390-461e-9d38-a9981a5f7947",
   "metadata": {
    "tags": []
   },
   "source": [
    "Tables are interpreted as pandas dataframes when read from PDS3 products and as PDS_ndarrays (subclassed numpy arrays) when read from PDS4 labels (as shown here). PDS4 labels are output as dictionaries. "
   ]
  },
  {
   "cell_type": "code",
   "execution_count": null,
   "id": "4887e95e-7eac-4f1b-b1ab-d1c44b0f450b",
   "metadata": {
    "tags": []
   },
   "outputs": [],
   "source": [
    "print(f'The keys are {apollo_from_data_file.keys()}')\n",
    "for key in apollo_from_data_file.keys():\n",
    "    print(f'{key}:')\n",
    "    print(type(apollo_from_data_file[key]))\n",
    "    print(apollo_from_data_file[key])"
   ]
  },
  {
   "cell_type": "markdown",
   "id": "72ea2949-30d2-4e96-810d-d58778f97e1d",
   "metadata": {},
   "source": [
    "An example with a MRO-RSS file (a PDS3 formatted table) can be seen below. Note again the difference in table types returned from using PDS3 and PDS4 labels: pandas dataframes vs. PDS_ndarray.\n",
    "\n",
    "Here we also demonstrate the use of the `lazy=` keyword. When passed `lazy=True` and a detached label file, `pdr` only reads the label file, allowing you to load each data object at your leisure."
   ]
  },
  {
   "cell_type": "code",
   "execution_count": null,
   "id": "bd418a8d-bd4a-41aa-ba54-d5e32a18fa52",
   "metadata": {
    "tags": []
   },
   "outputs": [],
   "source": [
    "mrorss_url = 'https://pds-geosciences.wustl.edu/mro/mro-m-rss-5-sdp-v1/'\\\n",
    "             'mrors_1xxx/data/shadr/jgmro_110b2_sha.tab'\n",
    "mrorss_lbl_url = 'https://pds-geosciences.wustl.edu/mro/mro-m-rss-5-sdp-v1/'\\\n",
    "                 'mrors_1xxx/data/shadr/jgmro_110b2_sha.lbl'\n",
    "mrorss_fn = mrorss_url.split('/')[-1]\n",
    "if not os.path.exists(mrorss_fn):\n",
    "    req = requests.get(mrorss_url)\n",
    "    open(mrorss_fn, 'wb').write(req.content)\n",
    "mrorss_lbl = mrorss_lbl_url.split('/')[-1]\n",
    "if not os.path.exists(mrorss_lbl):\n",
    "    req_lbl = requests.get(mrorss_lbl_url)\n",
    "    open(mrorss_lbl, 'wb').write(req_lbl.content)\n",
    "\n",
    "mrorss_data=pdr.read(mrorss_lbl, lazy=True)\n",
    "\n",
    "mrorss_data"
   ]
  },
  {
   "cell_type": "code",
   "execution_count": null,
   "id": "f6228f05",
   "metadata": {},
   "outputs": [],
   "source": [
    "# now we can load individual objects. note that this TABLE \n",
    "# no longer appears in the 'not yet loaded' list.\n",
    "mrorss_data.load('SHADR_COEFFICIENTS_TABLE')\n",
    "mrorss_data"
   ]
  },
  {
   "cell_type": "markdown",
   "id": "ce845519-033b-4d2b-b544-756053053c00",
   "metadata": {},
   "source": [
    "#### `.dump_browse()` convience method (for outputting browse products of any data type)\n",
    "\n",
    "Much like the `.show()` method, the `dump_browse()` method can output a masked browse image. However, there are some key differences.\n",
    "\n",
    "(1) `.dump_browse()` will create a browse file on your computer drive, not a visual output on your display.\n",
    "\n",
    "(2) While `.show()` only works on array data (meant for images), the `.dump_browse()` feature will output a file for each key.\n",
    "\n",
    "Let's give it a go:"
   ]
  },
  {
   "cell_type": "code",
   "execution_count": null,
   "id": "6a192148-812e-443e-8e6a-6b25a9a69f59",
   "metadata": {},
   "outputs": [],
   "source": [
    "mrorss_data.dump_browse()\n",
    "print(glob.glob('jgmro_110b2_sha*'))"
   ]
  },
  {
   "cell_type": "markdown",
   "id": "54da9faa-58bd-4933-ae8a-99e39daad87b",
   "metadata": {},
   "source": [
    "There should now be two new files in the folder you have this jupyter notebook in (visible in the printed `glob` statement above) as well\n",
    "\n",
    "    -jgmro_110b2_sha_LABEL.lbl\n",
    "    -jgmro_110b2_sha_SHADR_COEFFICIENTS_TABLE.csv\n",
    "    \n",
    "Dumped browse filenames are created from the original filename, plus \\_key, where key is the name of the corresponding dictionary key.\n",
    "\n",
    "Notice that only the keys that were loaded in have corresponding files when running `dump_browse()`.\n",
    "\n",
    "The label is output as a PVL parsed .lbl file. When PDS labels don't conform to the strict standards of PVL (which they often don't) the \\_LABEL.lbl will be accompanied by a \\_LABEL.badpvl.txt which is the backup output. It is simply a text file of the LABEL key. In this case the \\_LABEL.lbl will be an empty text file.\n",
    "\n",
    "We can use this same convenience method with the image data from above (requires running the first 2 cells after import in case you jumped here). This will output the image we displayed above as a .jpg and also output a parsed .lbl which will both be saved in the folder the jupyter notebook is executing from."
   ]
  },
  {
   "cell_type": "code",
   "execution_count": null,
   "id": "b3adb91d-bf02-4e77-942c-dc6f0a1bd3cd",
   "metadata": {},
   "outputs": [],
   "source": [
    "lroc_data.dump_browse()"
   ]
  }
 ],
 "metadata": {
  "kernelspec": {
   "display_name": "Python 3 (ipykernel)",
   "language": "python",
   "name": "python3"
  },
  "language_info": {
   "codemirror_mode": {
    "name": "ipython",
    "version": 3
   },
   "file_extension": ".py",
   "mimetype": "text/x-python",
   "name": "python",
   "nbconvert_exporter": "python",
   "pygments_lexer": "ipython3",
   "version": "3.9.10"
  }
 },
 "nbformat": 4,
 "nbformat_minor": 5
}

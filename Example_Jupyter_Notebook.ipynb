{
 "cells": [
  {
   "cell_type": "markdown",
   "id": "c992d48d-e854-4644-a2e6-b395a4987095",
   "metadata": {},
   "source": [
    "## Welcome to the Planetary Data Reader Example Jupyter Notebook!\n",
    "\n",
    "The planetary data reader (pdr) is a simple, easy to use python package created by Million Concepts to allow planetary scientists to easily open and access their data. Here we will demonstrate the basics of working with pdr and some of the features it contains. \n",
    "\n",
    "_**Note:** This notebook downloads data from the PDS and therefore requires an internet connection. pdr does not require an internet connection to be used locally when not downloading data._\n",
    "\n",
    "We start by importing pdr into the workspace so we have access to its functions and capabilities."
   ]
  },
  {
   "cell_type": "code",
   "execution_count": null,
   "id": "5fc26887-e1f4-4084-9bf4-a37e8e09b947",
   "metadata": {},
   "outputs": [],
   "source": [
    "import pdr\n",
    "import requests"
   ]
  },
  {
   "cell_type": "markdown",
   "id": "7577ffa7-46d6-455e-966c-a68e567b6954",
   "metadata": {},
   "source": [
    "### Downloading Data:\n",
    "In this notebook, we will be using the requests package to download data from the PDS. In the future pdr will have a built in downloader utility. This notebook will be updated to show its usage at that time.\n",
    "\n",
    "Our first example will be an image from LROC (which uses the PDS3 standards and has an attached label)."
   ]
  },
  {
   "cell_type": "code",
   "execution_count": null,
   "id": "74cd7f99-d1ae-4a06-887f-d1fa767f4d88",
   "metadata": {},
   "outputs": [],
   "source": [
    "img_url = 'https://pds.lroc.asu.edu/data/LRO-L-LROC-5-RDR-V1.0/LROLRC_2001/DATA/BDR/NAC_ROI/NECTARISLOA/NAC_ROI_NECTARISLOA_E176S0413_20M.IMG'\n",
    "filename = img_url.split('/')[-1]\n",
    "req = requests.get(img_url)\n",
    "open(filename, 'wb').write(req.content)"
   ]
  },
  {
   "cell_type": "markdown",
   "id": "4f8f6b2a-1f0e-47da-bc93-af7c952eaa7b",
   "metadata": {},
   "source": [
    "### Reading image data:\n",
    "Now that we have our file downloaded (run the above cell), we can easily read the data in with `pdr.read()`. This will output a dictionary of the different products referenced in the label. Here we will list the keys to see what these products are and then output to the screen each one to view the format."
   ]
  },
  {
   "cell_type": "code",
   "execution_count": null,
   "id": "c9d938ab-9cc3-4b66-be32-b881d1ee4f18",
   "metadata": {},
   "outputs": [],
   "source": [
    "lroc_data = pdr.read(filename)\n",
    "print(f'The keys are {lroc_data.keys()}')\n",
    "for key in lroc_data.keys():\n",
    "    print(f'{key}:')\n",
    "    print(lroc_data[key])"
   ]
  },
  {
   "cell_type": "markdown",
   "id": "871bae1d-18d5-4228-831b-9aa0b5da43c6",
   "metadata": {},
   "source": [
    "You'll notice the above cell produces an error when trying to output `DATA_SET_MAP_PROJECTION`. This is intentional. Many files in the PDS have small format (.FMT), catalog (.CAT), or other supplementary files referenced in their labels. These files are usually in a separate folder from where the data and label files are. Many times these supplementary files are not necessary to read the data. Because of this pdr currently does not load in these supplementary files if they are unnecessary to read the data file.\n",
    "\n",
    "#### `.show()` convenience method (for visualizing image data):\n",
    "The label is currently output as a PVL (Parameter Value Language) object. The image data is a numpy.ndarray. There is a convience method built into pdr for visualizing the image data called `.show()`. Here, null values (based on null values defined in the label file as well as a list of universal nulls) are masked in cyan. This doesn't change their value in the numpy array above, this method is soley for visualizing the data for browsing or triage purposes."
   ]
  },
  {
   "cell_type": "code",
   "execution_count": null,
   "id": "10dd86bc-7927-46b3-aa68-3ae0de94f6b8",
   "metadata": {},
   "outputs": [],
   "source": [
    "lroc_data.show()"
   ]
  },
  {
   "cell_type": "markdown",
   "id": "1432dcee-f855-4a24-91f3-2a4a4fd77e9c",
   "metadata": {
    "tags": []
   },
   "source": [
    "### Reading table data:\n",
    "Now let's look at a table, which also uses the same `pdr.read()` command. This will output a dictionary of the different products referenced in the label. Here we will list the keys to see what these products are and then output to the screen each one to view the format.\n",
    "\n",
    "We'll use a simple table from Apollo 15 data that is in the PDS4 standard format. We then use a table from MRO SHARAD that is in the PDS3 standard format. **We also demonstrate that data can be opened with either a detached label file or a data file. Though label files are preferred.**\n",
    "\n",
    "_**Note:** Currently, pdr does not use the same internal functions to open PDS4 and PDS3 data. PDS4 data is less optimized and we recommend using PDS3 labels whenever both are available due to this._"
   ]
  },
  {
   "cell_type": "code",
   "execution_count": null,
   "id": "fd0c21c9-16cb-45dd-a826-d3926d6ec1b8",
   "metadata": {
    "tags": []
   },
   "outputs": [],
   "source": [
    "apollo_url = 'https://pds-geosciences.wustl.edu/lunar/urn-nasa-pds-a15_17_hfe_concatenated/data/split/a15p1f4_split.tab'\n",
    "apollo_lbl = 'https://pds-geosciences.wustl.edu/lunar/urn-nasa-pds-a15_17_hfe_concatenated/data/split/a15p1f4_split.xml'\n",
    "req = requests.get(apollo_url)\n",
    "apollo_fn = apollo_url.split('/')[-1]\n",
    "reqlbl = requests.get(apollo_lbl)\n",
    "apollo_lbl = apollo_lbl.split('/')[-1]\n",
    "open(apollo_fn, 'wb').write(req.content)\n",
    "open(apollo_lbl, 'wb').write(reqlbl.content)\n",
    "apollo_from_data_file = pdr.read(apollo_fn)\n",
    "apollo_from_lbl_file = pdr.read(apollo_lbl)\n",
    "print('The outputs from both data and label are the same: True/False?')\n",
    "print(all(apollo_from_data_file['a15p1f4_split']==apollo_from_lbl_file['a15p1f4_split']))"
   ]
  },
  {
   "cell_type": "markdown",
   "id": "4c835f34-c390-461e-9d38-a9981a5f7947",
   "metadata": {
    "tags": []
   },
   "source": [
    "Tables are output as pandas dataframes when read from a PDS3 label and as PDS_ndarray (this is a reclassed numpy array) when read from a PDS4 label (as shown here). PDS4 labels are output as dictionaries. "
   ]
  },
  {
   "cell_type": "code",
   "execution_count": null,
   "id": "4887e95e-7eac-4f1b-b1ab-d1c44b0f450b",
   "metadata": {
    "tags": []
   },
   "outputs": [],
   "source": [
    "print(f'The keys are {apollo_from_data_file.keys()}')\n",
    "for key in apollo_from_data_file.keys():\n",
    "    print(f'{key}:')\n",
    "    print(type(apollo_from_data_file[key]))\n",
    "    print(apollo_from_data_file[key])"
   ]
  },
  {
   "cell_type": "markdown",
   "id": "72ea2949-30d2-4e96-810d-d58778f97e1d",
   "metadata": {},
   "source": [
    "\n",
    "An example with a MRO-RSS file, a PDS3 formatted table, can be seen below. Note again the differing output types from using a a PDS3 (pandas dataframe) vs. PDS4 (PDS_ndarray) label file for a table.\n",
    "\n",
    "Here we also demonstrate the use of the `lazy=` keyword. This causes only the label to be read in and allows the each product referenced in a label file to be loaded in separately."
   ]
  },
  {
   "cell_type": "code",
   "execution_count": null,
   "id": "bd418a8d-bd4a-41aa-ba54-d5e32a18fa52",
   "metadata": {
    "tags": []
   },
   "outputs": [],
   "source": [
    "mrorss_url = 'https://pds-geosciences.wustl.edu/mro/mro-m-rss-5-sdp-v1/mrors_1xxx/data/shadr/jgmro_110b2_sha.tab'\n",
    "req = requests.get(mrorss_url)\n",
    "mrorss_lbl_url = 'https://pds-geosciences.wustl.edu/mro/mro-m-rss-5-sdp-v1/mrors_1xxx/data/shadr/jgmro_110b2_sha.lbl'\n",
    "req_lbl = requests.get(mrorss_lbl_url)\n",
    "mrorss_fn = mrorss_url.split('/')[-1]\n",
    "mrorss_lbl = mrorss_lbl_url.split('/')[-1]\n",
    "open(mrorss_fn, 'wb').write(req.content)\n",
    "open(mrorss_lbl, 'wb').write(req_lbl.content)\n",
    "\n",
    "mrorss_data=pdr.read(mrorss_lbl, lazy=True)\n",
    "\n",
    "print(f'The keys are {mrorss_data.keys()}')\n",
    "for key in mrorss_data.keys():\n",
    "    print(f'{key}:')\n",
    "    print(type(mrorss_data[key]))\n",
    "    print(mrorss_data[key])"
   ]
  },
  {
   "cell_type": "markdown",
   "id": "65f124fd-26e3-4192-bbdc-2bb4ca4f9c07",
   "metadata": {},
   "source": [
    "The SHADR_HEADER_TABLE and SHADR_COEFFICIENTS_TABLE are not loaded in yet becuase we used `lazy=True`. Let's load one now:"
   ]
  },
  {
   "cell_type": "code",
   "execution_count": null,
   "id": "1406bebc-3ce5-41a4-ae67-bc138f047909",
   "metadata": {},
   "outputs": [],
   "source": [
    "mrorss_data.load('SHADR_COEFFICIENTS_TABLE')\n",
    "print(mrorss_data['SHADR_COEFFICIENTS_TABLE'])"
   ]
  },
  {
   "cell_type": "markdown",
   "id": "ce845519-033b-4d2b-b544-756053053c00",
   "metadata": {},
   "source": [
    "#### `.dump_browse()` convience method (for outputting browse products of any data type)\n",
    "\n",
    "Similar to the `.show()` method, the `dump_browse()` method can output a masked browse image. However, there are some key differences.\n",
    "\n",
    "(1) `.dump_browse()` will create a browse file on your computer drive, not a visual output on your display.\n",
    "\n",
    "(2) While `.show()` only works on array data (meant for images), the `.dump_browse()` feature will output a file for each key.\n",
    "\n",
    "Let's give it a go:"
   ]
  },
  {
   "cell_type": "code",
   "execution_count": null,
   "id": "6a192148-812e-443e-8e6a-6b25a9a69f59",
   "metadata": {},
   "outputs": [],
   "source": [
    "mrorss_data.dump_browse()"
   ]
  },
  {
   "cell_type": "markdown",
   "id": "54da9faa-58bd-4933-ae8a-99e39daad87b",
   "metadata": {},
   "source": [
    "There should now be two new files in the folder you have this jupyter notebook in. \n",
    "\n",
    "    -jgmro_110b2_sha_LABEL.lbl\n",
    "    -jgmro_110b2_sha_SHADR_COEFFICIENTS_TABLE.csv\n",
    "    \n",
    "Each file is named by the name of the original file with the addition of \\_key where key is the name of the corresponding dictionary key.\n",
    "\n",
    "Notice that only the keys that were loaded in have corresponding files when running `dump_browse()`.\n",
    "\n",
    "The label is output as a PVL parsed .lbl file. When PDS labels don't conform to the strict standards of PVL (which they often don't) the \\_LABEL.lbl will be accompanied by a \\_LABEL.badpvl.txt which is the backup output. It is simply a text file of the LABEL key. In this case the \\_LABEL.lbl will be an empty text file.\n",
    "\n",
    "We can use this same convenience method with the image data from above (requires running of first 2 cells after import in case you jumped here). This will output the image we displayed above as a .jpg and also output a parsed .lbl which will both be saved in the folder the jupyter notebook is executing from."
   ]
  },
  {
   "cell_type": "code",
   "execution_count": null,
   "id": "b3adb91d-bf02-4e77-942c-dc6f0a1bd3cd",
   "metadata": {},
   "outputs": [],
   "source": [
    "lroc_data.dump_browse()"
   ]
  }
 ],
 "metadata": {
  "kernelspec": {
   "display_name": "Python 3 (ipykernel)",
   "language": "python",
   "name": "python3"
  },
  "language_info": {
   "codemirror_mode": {
    "name": "ipython",
    "version": 3
   },
   "file_extension": ".py",
   "mimetype": "text/x-python",
   "name": "python",
   "nbconvert_exporter": "python",
   "pygments_lexer": "ipython3",
   "version": "3.10.1"
  }
 },
 "nbformat": 4,
 "nbformat_minor": 5
}
